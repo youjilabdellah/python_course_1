{
 "cells": [
  {
   "cell_type": "markdown",
   "id": "c772d726",
   "metadata": {},
   "source": [
    "# La fonction print.\n",
    "\n",
    "La fonction print permet d'écrire dans le stdout. Dans un système d'exploitation on distingue trois type de \n",
    "filedescriptor\n",
    "\n",
    "0: c'est le stdin en générale ce que le système reçoit du clavier \n",
    "\n",
    "1: Le stdout c'est ou le système écrit \n",
    "\n",
    "2: le stderr c'est ou le système écrit les erreurs \n",
    "\n",
    "\n",
    "la fonction print permet d'afficher par exemple le contenu d'une variable et si on passe plusieurs variable. il va les afficher avec un espace entre les arguments"
   ]
  },
  {
   "cell_type": "code",
   "execution_count": 12,
   "id": "d3f0c82c",
   "metadata": {},
   "outputs": [
    {
     "name": "stdout",
     "output_type": "stream",
     "text": [
      "test contenu\n"
     ]
    }
   ],
   "source": [
    "print(\"test contenu\")"
   ]
  },
  {
   "cell_type": "code",
   "execution_count": 10,
   "id": "c218d181",
   "metadata": {},
   "outputs": [
    {
     "name": "stdout",
     "output_type": "stream",
     "text": [
      "123 argument1 argument2\n"
     ]
    }
   ],
   "source": [
    "print(123, 'argument1', 'argument2')"
   ]
  },
  {
   "cell_type": "markdown",
   "id": "f2c5154b",
   "metadata": {},
   "source": [
    "# Variables\n",
    " \n",
    " les variables sont les labels des objets dans la mémoire, ils sont case-sensitive\n",
    " \n",
    " x -------> 5 \n",
    " \n",
    " z -------> 5 \n",
    " \n",
    " y -------> \"string1\""
   ]
  },
  {
   "cell_type": "code",
   "execution_count": 11,
   "id": "6683dd6d",
   "metadata": {},
   "outputs": [],
   "source": [
    "x = 5\n",
    "z = 5\n",
    "y = 'string1'"
   ]
  },
  {
   "cell_type": "code",
   "execution_count": 5,
   "id": "b41be5eb",
   "metadata": {},
   "outputs": [
    {
     "data": {
      "text/plain": [
       "True"
      ]
     },
     "execution_count": 5,
     "metadata": {},
     "output_type": "execute_result"
    }
   ],
   "source": [
    "x is z"
   ]
  },
  {
   "cell_type": "code",
   "execution_count": 7,
   "id": "c5fcd8ef",
   "metadata": {},
   "outputs": [
    {
     "data": {
      "text/plain": [
       "4337346992"
      ]
     },
     "execution_count": 7,
     "metadata": {},
     "output_type": "execute_result"
    }
   ],
   "source": [
    "id(x)"
   ]
  },
  {
   "cell_type": "code",
   "execution_count": 8,
   "id": "ce8460b9",
   "metadata": {},
   "outputs": [
    {
     "data": {
      "text/plain": [
       "4337346992"
      ]
     },
     "execution_count": 8,
     "metadata": {},
     "output_type": "execute_result"
    }
   ],
   "source": [
    "id(z)"
   ]
  },
  {
   "cell_type": "code",
   "execution_count": 9,
   "id": "1788522c",
   "metadata": {},
   "outputs": [],
   "source": [
    "x = 6"
   ]
  },
  {
   "cell_type": "code",
   "execution_count": 10,
   "id": "ee56a673",
   "metadata": {},
   "outputs": [
    {
     "data": {
      "text/plain": [
       "4337347024"
      ]
     },
     "execution_count": 10,
     "metadata": {},
     "output_type": "execute_result"
    }
   ],
   "source": [
    "id(x)"
   ]
  },
  {
   "cell_type": "code",
   "execution_count": null,
   "id": "9bb2dc17",
   "metadata": {},
   "outputs": [],
   "source": [
    "globals()"
   ]
  },
  {
   "cell_type": "markdown",
   "id": "43728b24",
   "metadata": {},
   "source": [
    "# Les Types des variables:\n",
    " \n",
    "1. Integers int(): les nombres entiers\n",
    "2. Floats float(): les nombres réels (ex: 3.1415) pour 16 decimal \n",
    "3. String str(): \"This is a string\" 'and so is this!'\n",
    "4. Bytes byte(): une collection de bytes\n",
    "5. List list(): [ \"This\", \"is\", \"a\", \"list\", 123, 3.14]\n",
    "6. Tuples tuple(): ( \"Group\", \"of\", \"Values\" )\n",
    "7. Dictionary dict(): {\"Key1\":\"Value1\", \"Key2\":\"Value2\"}\n",
    "\n",
    "Les variables Python sont disponibles en différents \"types\". Bien qu'il ne s'agisse pas d'une liste exhaustive, vous effectuerez l'essentiel de votre codage avec l'un de ces types de variables principaux en Python.\n",
    "\n",
    "En Python 3, integers sont des nombres entiers. floats sont des nombres avec des points décimaux précis jusqu'à 16 décimales. Strings sont des groupes de caractères entourés de guillemets. Bytes sont une collection de valeurs de 8 bits. Les listes sont un groupe indexé d'éléments, similaires aux tableaux dans d'autres langages. Un tuple est similaire à une liste, mais il est léger et plus rapide, avec moins de fonctionnalités. Les dictionnaires sont très utiles pour stocker et récupérer rapidement des données.\n",
    "\n",
    "La fonction type() peut être utilisée pour voir ce que Python pense être certaines données."
   ]
  },
  {
   "cell_type": "code",
   "execution_count": 15,
   "id": "5d558608",
   "metadata": {},
   "outputs": [
    {
     "data": {
      "text/plain": [
       "int"
      ]
     },
     "execution_count": 15,
     "metadata": {},
     "output_type": "execute_result"
    }
   ],
   "source": [
    "type(1)"
   ]
  },
  {
   "cell_type": "code",
   "execution_count": 16,
   "id": "f7437eb1",
   "metadata": {},
   "outputs": [
    {
     "data": {
      "text/plain": [
       "float"
      ]
     },
     "execution_count": 16,
     "metadata": {},
     "output_type": "execute_result"
    }
   ],
   "source": [
    "type(1.2)"
   ]
  },
  {
   "cell_type": "code",
   "execution_count": 17,
   "id": "6d1715ee",
   "metadata": {},
   "outputs": [
    {
     "data": {
      "text/plain": [
       "str"
      ]
     },
     "execution_count": 17,
     "metadata": {},
     "output_type": "execute_result"
    }
   ],
   "source": [
    "type(\"string\")"
   ]
  },
  {
   "cell_type": "code",
   "execution_count": 27,
   "id": "9357cfa5",
   "metadata": {},
   "outputs": [],
   "source": [
    "ma = b'\\x41'"
   ]
  },
  {
   "cell_type": "code",
   "execution_count": 29,
   "id": "268ed9a8",
   "metadata": {},
   "outputs": [
    {
     "data": {
      "text/plain": [
       "bytes"
      ]
     },
     "execution_count": 29,
     "metadata": {},
     "output_type": "execute_result"
    }
   ],
   "source": [
    "type(ma)"
   ]
  },
  {
   "cell_type": "markdown",
   "id": "b5088cb0",
   "metadata": {},
   "source": [
    "# La variable de type fonction\n",
    "\n",
    "Une fonction est une variable qui contient du code exécutable"
   ]
  },
  {
   "cell_type": "code",
   "execution_count": 31,
   "id": "3c695763",
   "metadata": {},
   "outputs": [
    {
     "data": {
      "text/plain": [
       "builtin_function_or_method"
      ]
     },
     "execution_count": 31,
     "metadata": {},
     "output_type": "execute_result"
    }
   ],
   "source": [
    "type(print)"
   ]
  },
  {
   "cell_type": "code",
   "execution_count": 32,
   "id": "1ccaed3b",
   "metadata": {},
   "outputs": [],
   "source": [
    "print = 5"
   ]
  },
  {
   "cell_type": "code",
   "execution_count": null,
   "id": "0afed460",
   "metadata": {},
   "outputs": [],
   "source": [
    "print(12345)"
   ]
  },
  {
   "cell_type": "code",
   "execution_count": 34,
   "id": "b44867a9",
   "metadata": {},
   "outputs": [],
   "source": [
    "del(print)"
   ]
  },
  {
   "cell_type": "code",
   "execution_count": 35,
   "id": "aa1c1960",
   "metadata": {},
   "outputs": [
    {
     "name": "stdout",
     "output_type": "stream",
     "text": [
      "12345\n"
     ]
    }
   ],
   "source": [
    "print(12345)"
   ]
  },
  {
   "cell_type": "markdown",
   "id": "3c71662f",
   "metadata": {},
   "source": [
    "# Assignments:"
   ]
  },
  {
   "cell_type": "code",
   "execution_count": 38,
   "id": "3df7af7f",
   "metadata": {},
   "outputs": [
    {
     "name": "stdout",
     "output_type": "stream",
     "text": [
      "15\n"
     ]
    }
   ],
   "source": [
    "some_var = 5\n",
    "some_var = some_var + 10\n",
    "print(some_var)"
   ]
  },
  {
   "cell_type": "markdown",
   "id": "28454b83",
   "metadata": {},
   "source": [
    "# Reassigning Types"
   ]
  },
  {
   "cell_type": "code",
   "execution_count": 41,
   "id": "db507f08",
   "metadata": {},
   "outputs": [
    {
     "name": "stdout",
     "output_type": "stream",
     "text": [
      "<class 'int'>\n",
      "<class 'str'>\n",
      "100.0\n",
      "100\n"
     ]
    }
   ],
   "source": [
    "a = 10\n",
    "print(type(a))\n",
    "a = str(a)\n",
    "print(type(a))\n",
    "print(float(100))\n",
    "print(int(100.9))"
   ]
  },
  {
   "cell_type": "markdown",
   "id": "9acabd1a",
   "metadata": {},
   "source": [
    "# Math Operators\n",
    "\n",
    "soit x=5 \n",
    "\n",
    "| Operation | Exemple | Résultat en x |\n",
    "| --------- | ------- | ------------- |\n",
    "| Addition  | x = x + 5   |            10 |\n",
    "| Subtraction  |x = x - 2   |           3 |\n",
    "| Multiplication  | x = x * 5   |            25 |\n",
    "| Division  | x = x / 2   |            2.5 |\n",
    "| Floor  | x = x // 2   |            2 |\n",
    "| Modulo  | x % 2   |            1 |\n",
    "| Puissance  | x ** 2   |            25 |\n",
    "\n",
    "Python prend en charge tous ces opérateurs mathématiques. Vous pouvez effectuer des tâches avec un signe égal. Vous pouvez utiliser le signe plus pour effectuer une addition, le signe moins pour effectuer une soustraction, des astérisques pour effectuer une multiplication, la barre oblique pour effectuer une division, deux astérisques pour effectuer le calcul des exposants et le signe pour cent pour exécuter la fonction modulo. La fonction modulo renverra le reste de la division des deux nombres. Par exemple, 10 %7 est le reste de 10 divisé par 7. Dans ce cas, 10 divisé par 7 est 1 reste 3. Ainsi, 10 %7 est égal à 3.\n"
   ]
  },
  {
   "cell_type": "code",
   "execution_count": 42,
   "id": "c79fbb3b",
   "metadata": {},
   "outputs": [
    {
     "name": "stdout",
     "output_type": "stream",
     "text": [
      "25\n"
     ]
    }
   ],
   "source": [
    "x = 5\n",
    "x = x ** 2\n",
    "print(x)"
   ]
  },
  {
   "cell_type": "markdown",
   "id": "311b87b2",
   "metadata": {},
   "source": [
    "# Raccourcis d'affectation\n",
    "\n",
    "### Raccourcis pour mettre à jours les variables:\n",
    "\n",
    "a += 1 raccourcis pour a = a + 1 \n",
    "\n",
    "a -= 1 raccourcis pour a = a - 1 \n",
    "\n",
    "a *= 2 raccourcis pour a = a * 2 \n",
    "\n",
    "a /= 10 raccourcis pour a = a / 10 \n",
    "\n",
    "a //= 2 raccourcis pour a = a // 2 \n",
    "\n",
    "a %= 5 raccourcis pour a = a % 5 \n",
    "\n",
    "Python fournit des raccourcis pour les opérateurs mathématiques qui ajustent une variable en fonction de sa valeur actuelle. Vous pouvez écrire \"a = a + 5\" comme \"a += 5\". Ces deux expressions font exactement la même chose\n",
    "\n",
    "**NB: a=-1 est l'ordre incorrect pour les opérateurs. Il attribue un moins 1 à la variable \"a\"**"
   ]
  },
  {
   "cell_type": "markdown",
   "id": "127c23f8",
   "metadata": {},
   "source": [
    "# l'ordre des opérations\n",
    "\n",
    "L'ordre d'exécution des opérations est le suivants, Parenthèses, exposants,\n",
    "Multiplication et division, addition et Soustraction"
   ]
  },
  {
   "cell_type": "code",
   "execution_count": 1,
   "id": "a7aca2b2",
   "metadata": {},
   "outputs": [
    {
     "data": {
      "text/plain": [
       "11"
      ]
     },
     "execution_count": 1,
     "metadata": {},
     "output_type": "execute_result"
    }
   ],
   "source": [
    "1 + 5 * 2"
   ]
  },
  {
   "cell_type": "code",
   "execution_count": 3,
   "id": "33e5c10a",
   "metadata": {},
   "outputs": [
    {
     "data": {
      "text/plain": [
       "12"
      ]
     },
     "execution_count": 3,
     "metadata": {},
     "output_type": "execute_result"
    }
   ],
   "source": [
    "(1 + 5) * 2"
   ]
  },
  {
   "cell_type": "code",
   "execution_count": 4,
   "id": "c44976ea",
   "metadata": {},
   "outputs": [
    {
     "data": {
      "text/plain": [
       "True"
      ]
     },
     "execution_count": 4,
     "metadata": {},
     "output_type": "execute_result"
    }
   ],
   "source": [
    "True or True and False"
   ]
  },
  {
   "cell_type": "code",
   "execution_count": 5,
   "id": "73eef2ff",
   "metadata": {},
   "outputs": [
    {
     "data": {
      "text/plain": [
       "False"
      ]
     },
     "execution_count": 5,
     "metadata": {},
     "output_type": "execute_result"
    }
   ],
   "source": [
    "(True or True) and False"
   ]
  },
  {
   "cell_type": "markdown",
   "id": "2f2b7153",
   "metadata": {},
   "source": [
    "# Affectation en base 2 et base 16\n",
    "\n",
    "Vous pouvez attribuer des valeurs en hexadécimal en mettant un 0x avant les valeurs d'octet. Vous pouvez également attribuer des valeurs en binaire en mettant un 0b avant une série de uns et de zéros.\n",
    "La fonction int() acceptera deux paramètres : le premier est une chaîne représentant la valeur de l'entier, et\n",
    "la seconde est la base souhaitée lors de la conversion de la chaîne en numérique. Ceci est utile pour convertir des chaînes en Nombres. Dans Python 2.6 et versions ultérieures, vous pouvez également faire précéder un nombre de 0b pour une affectation binaire ou de 0x pour une affectation hexadécimale. Par exemple, nous pourrions attribuer « A = 0b0110 » ou « A = 0xff ». La valeur de toute variable entière sera imprimée au format décimal, quelle que soit la façon dont vous l'attribuez. Pour voir une valeur dans sa représentation entière ou hexadécimale, vous devrez utiliser bin() et hex().\n"
   ]
  },
  {
   "cell_type": "code",
   "execution_count": 18,
   "id": "ef705eec",
   "metadata": {},
   "outputs": [],
   "source": [
    "a = 0xff00 "
   ]
  },
  {
   "cell_type": "code",
   "execution_count": 19,
   "id": "19eec799",
   "metadata": {},
   "outputs": [
    {
     "data": {
      "text/plain": [
       "65280"
      ]
     },
     "execution_count": 19,
     "metadata": {},
     "output_type": "execute_result"
    }
   ],
   "source": [
    "a"
   ]
  },
  {
   "cell_type": "code",
   "execution_count": 20,
   "id": "a3683c19",
   "metadata": {},
   "outputs": [],
   "source": [
    "a = 0b1111010"
   ]
  },
  {
   "cell_type": "code",
   "execution_count": 21,
   "id": "d877022c",
   "metadata": {},
   "outputs": [
    {
     "data": {
      "text/plain": [
       "122"
      ]
     },
     "execution_count": 21,
     "metadata": {},
     "output_type": "execute_result"
    }
   ],
   "source": [
    "a"
   ]
  },
  {
   "cell_type": "markdown",
   "id": "85130f3b",
   "metadata": {},
   "source": [
    "# Les opérations sur les bits\n",
    "\n",
    "Vous pouvez également effectuer des affectations dans des bases autres que la base 10, comme les binaires et l'hexadécimal. Cette capacité peut être particulièrement utile lorsque vous travaillez avec des bits tels que des indicateurs dans les captures de paquets et les masques de réseau. Dans ces exemples, nous utilisons la fonction format() pour dire à Python d'imprimer la sortie sous forme de uns et de zéros binaires au lieu d'un nombre décimal. Nous discuterons la fonction **format** plus loin dans cette section. \n",
    "\n",
    "1. Dans le premier exemple, l'opération & est utilisée pour effectuer une opération ET logique au niveau des bits des deux nombres fourni. \n",
    "\n",
    "2. Dans le deuxième exemple, le | L'opérateur est utilisé pour effectuer une opération OU logique au niveau du bit.\n",
    "\n",
    "3. Le troisième fait un XOR et ainsi de suite. Le résultat est assez facile à comprendre si vous comprenez comment la logique les opérateurs travaillent.\n",
    "\n",
    "Il convient de noter que lorsque nous avons décalé les bits de deux places vers la gauche, notre sortie contenait plus de 8 bits. La fonction format() a un masque de \"08b\" qui imprimerait au moins 8 bits avec des zéros non significatifs mais ne tronque pas les valeurs supérieures à 8 bits.\n",
    "\n",
    "4. Les chaînes binaires Python ne stockent pas de nombres négatifs dans un format traditionnel de complément à deux. Il stocke le signe et les morceaux."
   ]
  },
  {
   "cell_type": "code",
   "execution_count": 22,
   "id": "f6b39033",
   "metadata": {},
   "outputs": [
    {
     "data": {
      "text/plain": [
       "'00001010'"
      ]
     },
     "execution_count": 22,
     "metadata": {},
     "output_type": "execute_result"
    }
   ],
   "source": [
    "format(0b10101010 & 0b00001111, \"08b\")"
   ]
  },
  {
   "cell_type": "code",
   "execution_count": 23,
   "id": "6d5a3a73",
   "metadata": {},
   "outputs": [
    {
     "data": {
      "text/plain": [
       "'10111101'"
      ]
     },
     "execution_count": 23,
     "metadata": {},
     "output_type": "execute_result"
    }
   ],
   "source": [
    "format(0b10000001 | 0b00111100, \"08b\")"
   ]
  },
  {
   "cell_type": "code",
   "execution_count": 24,
   "id": "5c10bebc",
   "metadata": {},
   "outputs": [
    {
     "data": {
      "text/plain": [
       "'10100101'"
      ]
     },
     "execution_count": 24,
     "metadata": {},
     "output_type": "execute_result"
    }
   ],
   "source": [
    "format(0b10101010 ^ 0b00001111, \"08b\")"
   ]
  },
  {
   "cell_type": "code",
   "execution_count": null,
   "id": "e3b6a30c",
   "metadata": {},
   "outputs": [],
   "source": []
  }
 ],
 "metadata": {
  "kernelspec": {
   "display_name": "Python 3 (ipykernel)",
   "language": "python",
   "name": "python3"
  },
  "language_info": {
   "codemirror_mode": {
    "name": "ipython",
    "version": 3
   },
   "file_extension": ".py",
   "mimetype": "text/x-python",
   "name": "python",
   "nbconvert_exporter": "python",
   "pygments_lexer": "ipython3",
   "version": "3.9.6"
  }
 },
 "nbformat": 4,
 "nbformat_minor": 5
}
